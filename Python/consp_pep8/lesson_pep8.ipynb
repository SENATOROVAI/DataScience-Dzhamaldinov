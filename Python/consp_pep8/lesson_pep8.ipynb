{
 "cells": [
  {
   "cell_type": "code",
   "execution_count": null,
   "metadata": {},
   "outputs": [],
   "source": [
    "\"\"\"rules_for_my_code.\"\"\""
   ]
  },
  {
   "cell_type": "code",
   "execution_count": null,
   "metadata": {},
   "outputs": [],
   "source": [
    "НЕ ставить пробел перед и после точки, чтоб не разделять ОБЪЕКТ и АТРИБУТ:\n",
    "\n",
    "'Hello, world!'.upper()  # правильное написание\n",
    "\n",
    "НЕ ставить пробел после имени функции и перед ее вызовом:\n",
    "\n",
    "print('Hello, world!')  # вызов функции, обозначенный круглыми скобками\n",
    "                        # никак не отделен от гназвания функции\n",
    "То же правило работает для (словарей, списков и кортежей).\n",
    "\n"
   ]
  }
 ],
 "metadata": {
  "language_info": {
   "name": "python"
  }
 },
 "nbformat": 4,
 "nbformat_minor": 2
}

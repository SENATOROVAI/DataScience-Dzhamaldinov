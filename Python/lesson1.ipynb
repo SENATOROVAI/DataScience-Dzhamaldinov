{
 "cells": [
  {
   "cell_type": "code",
   "execution_count": null,
   "metadata": {},
   "outputs": [],
   "source": [
    "\"\"\"\n",
    "lesson 1\n",
    "\"\"\""
   ]
  },
  {
   "cell_type": "code",
   "execution_count": null,
   "metadata": {},
   "outputs": [],
   "source": [
    "\n",
    "Алгоритм принятия и отправки домашки\n",
    "VSCode \n",
    "1. Принять домашку нажимаем три кружочка\n",
    "2. Три точки\n",
    "3. Pull \n",
    "CATS\n",
    "1. Fetch \n",
    "\n",
    "Отдать домашку\n",
    "VSCode \n",
    "1. Три кружочка + название commit\n",
    "2. Нажать три точки\n",
    "3. Push \n",
    "CATS\n",
    "1. Название комита\n",
    "2. Commit\n",
    "3. Push"
   ]
  },
  {
   "cell_type": "code",
   "execution_count": null,
   "metadata": {},
   "outputs": [],
   "source": [
    "pip install flake8-variables-names\n",
    "pip install flake8-functions-names\n",
    "pip install flake8-builtins\n",
    "pip install flake8-bugbear\n",
    "pip install pep8-naming"
   ]
  },
  {
   "cell_type": "code",
   "execution_count": null,
   "metadata": {},
   "outputs": [],
   "source": [
    "conda install flake8-variables-names\n",
    "conda install flake8-type-checking\n",
    "conda install flake8-pep3101\n",
    "conda install flake8-variables-names\n",
    "conda install flake8-functions-names\n",
    "conda install flake8-builtins\n",
    "conda install flake8-bugbear\n",
    "conda install pep8-naming"
   ]
  },
  {
   "cell_type": "code",
   "execution_count": 3,
   "metadata": {},
   "outputs": [
    {
     "ename": "SyntaxError",
     "evalue": "invalid syntax (1161465442.py, line 1)",
     "output_type": "error",
     "traceback": [
      "\u001b[0;36m  Cell \u001b[0;32mIn[3], line 1\u001b[0;36m\u001b[0m\n\u001b[0;31m    nbqa black my_notebook.ipynb\u001b[0m\n\u001b[0m         ^\u001b[0m\n\u001b[0;31mSyntaxError\u001b[0m\u001b[0;31m:\u001b[0m invalid syntax\n"
     ]
    }
   ],
   "source": [
    "nbqa black my_notebook.ipynb\n",
    "nbqa mypy my_notebook.ipynb\n",
    "nbqa pyupgrade my_notebook.ipynb\n",
    "nbqa blacken-docs my_notebook.ipynb"
   ]
  }
 ],
 "metadata": {
  "kernelspec": {
   "display_name": "base",
   "language": "python",
   "name": "python3"
  },
  "language_info": {
   "codemirror_mode": {
    "name": "ipython",
    "version": 3
   },
   "file_extension": ".py",
   "mimetype": "text/x-python",
   "name": "python",
   "nbconvert_exporter": "python",
   "pygments_lexer": "ipython3",
   "version": "3.11.7"
  }
 },
 "nbformat": 4,
 "nbformat_minor": 2
}

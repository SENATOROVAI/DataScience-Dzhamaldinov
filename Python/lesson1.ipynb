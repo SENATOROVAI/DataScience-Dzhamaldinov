{
 "cells": [
  {
   "cell_type": "code",
   "execution_count": null,
   "metadata": {},
   "outputs": [],
   "source": [
    "\"\"\"\n",
    "lesson 1\n",
    "\"\"\""
   ]
  },
  {
   "cell_type": "code",
   "execution_count": null,
   "metadata": {},
   "outputs": [],
   "source": [
    "Алгоритм принятия и отправки домашки\n",
    "VSCode \n",
    "1. Принять домашку нажимаем три кружочка\n",
    "2. Три точки\n",
    "3. Pull \n",
    "CATS\n",
    "1. Fetch \n",
    "\n",
    "Отдать домашку\n",
    "VSCode \n",
    "1. Три кружочка + название commit\n",
    "2. Нажать три точки\n",
    "3. Push \n",
    "CATS\n",
    "1. Название комита\n",
    "2. Commit\n",
    "3. Push"
   ]
  },
  {
   "cell_type": "code",
   "execution_count": null,
   "metadata": {},
   "outputs": [],
   "source": [
    "pip install flake8-variables-names\n",
    "pip install flake8-functions-names\n",
    "pip install flake8-builtins\n",
    "pip install flake8-bugbear\n",
    "pip install pep8-naming"
   ]
  }
 ],
 "metadata": {
  "language_info": {
   "name": "python"
  }
 },
 "nbformat": 4,
 "nbformat_minor": 2
}

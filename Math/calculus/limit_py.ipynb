{
 "cells": [
  {
   "cell_type": "code",
   "execution_count": null,
   "metadata": {},
   "outputs": [],
   "source": [
    "\"\"\"limit in python.\"\"\"\n",
    "\n",
    "import sympy as sp\n",
    "\n",
    "n_ = sp.symbols(\"n_\")\n",
    "f_ = ((-1) ** (n_ - 1)) / n_\n",
    "limit = sp.limit(f_, n_, sp.oo)\n",
    "limit\n",
    "\n",
    "n_ = sp.symbols(\"n_\")\n",
    "f_ = (-1) ** n_\n",
    "limit = sp.limit(f_, n_, sp.oo)\n",
    "limit\n",
    "\n",
    "n_ = sp.symbols(\"n_\")\n",
    "f_ = ((n_**2) + (3 * n_) - 5) / (((3 * n_) ** 2) - n_ + 6)\n",
    "limit = sp.limit(f_, n_, sp.oo)\n",
    "limit\n",
    "\n",
    "n_ = sp.symbols(\"n_\")\n",
    "f_ = (sp.sqrt(n_) * sp.sin(n_)) / ((2 * n_) + 6)\n",
    "limit = sp.limit(f_, n_, sp.oo)\n",
    "limit\n",
    "\n",
    "n_ = sp.symbols(\"n_\")\n",
    "s_ = n_ * (n_ + 1) * (2 * n_ + 1) / 6\n",
    "limit = sp.limit(s_, n_, sp.oo)\n",
    "limit\n",
    "\n",
    "x_ = sp.symbols(\"x_\")\n",
    "f_ = (sp.sqrt(4 + x_) - 2) / (3 * sp.atan(x_))\n",
    "limit = sp.limit(f_, x_, 0)\n",
    "limit"
   ]
  }
 ],
 "metadata": {
  "language_info": {
   "name": "python"
  }
 },
 "nbformat": 4,
 "nbformat_minor": 2
}
